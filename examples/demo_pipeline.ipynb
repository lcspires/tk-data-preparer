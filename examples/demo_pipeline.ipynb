{
 "cells": [
  {
   "cell_type": "code",
   "execution_count": 2,
   "metadata": {},
   "outputs": [
    {
     "name": "stdout",
     "output_type": "stream",
     "text": [
      "Módulos importados com sucesso!\n"
     ]
    }
   ],
   "source": [
    "# Célula 1: Importações e setup\n",
    "import pandas as pd\n",
    "import numpy as np\n",
    "from tk_data_preparer.core import (\n",
    "    CleanConfig, FilterConfig, DedupConfig, PipelineConfig, \n",
    "    DataPreparationPipeline, clean_columns, filter_by_length, remove_duplicates\n",
    ")\n",
    "\n",
    "print(\"Módulos importados com sucesso!\")"
   ]
  },
  {
   "cell_type": "code",
   "execution_count": 3,
   "metadata": {},
   "outputs": [
    {
     "name": "stdout",
     "output_type": "stream",
     "text": [
      "Dados originais criados:\n",
      "Shape: (8, 7)\n"
     ]
    },
    {
     "data": {
      "text/html": [
       "<div>\n",
       "<style scoped>\n",
       "    .dataframe tbody tr th:only-of-type {\n",
       "        vertical-align: middle;\n",
       "    }\n",
       "\n",
       "    .dataframe tbody tr th {\n",
       "        vertical-align: top;\n",
       "    }\n",
       "\n",
       "    .dataframe thead th {\n",
       "        text-align: right;\n",
       "    }\n",
       "</style>\n",
       "<table border=\"1\" class=\"dataframe\">\n",
       "  <thead>\n",
       "    <tr style=\"text-align: right;\">\n",
       "      <th></th>\n",
       "      <th>nome_completo</th>\n",
       "      <th>email</th>\n",
       "      <th>telefone</th>\n",
       "      <th>idade</th>\n",
       "      <th>salario</th>\n",
       "      <th>departamento</th>\n",
       "      <th>data_admissao</th>\n",
       "    </tr>\n",
       "  </thead>\n",
       "  <tbody>\n",
       "    <tr>\n",
       "      <th>0</th>\n",
       "      <td>João Silva</td>\n",
       "      <td>JOÃO@EMAIL.COM</td>\n",
       "      <td>(11) 99999-9999</td>\n",
       "      <td>25</td>\n",
       "      <td>5000.0</td>\n",
       "      <td>TI</td>\n",
       "      <td>2020-01-15</td>\n",
       "    </tr>\n",
       "    <tr>\n",
       "      <th>1</th>\n",
       "      <td>MARIA SANTOS</td>\n",
       "      <td>maria@email.com</td>\n",
       "      <td>(21) 88888-8888</td>\n",
       "      <td>30</td>\n",
       "      <td>6000.5</td>\n",
       "      <td>RH</td>\n",
       "      <td>2019-03-20</td>\n",
       "    </tr>\n",
       "    <tr>\n",
       "      <th>2</th>\n",
       "      <td>joão silva</td>\n",
       "      <td>joão@email.com</td>\n",
       "      <td>(11) 99999-9999</td>\n",
       "      <td>25</td>\n",
       "      <td>5000.0</td>\n",
       "      <td>TI</td>\n",
       "      <td>2020-01-15</td>\n",
       "    </tr>\n",
       "    <tr>\n",
       "      <th>3</th>\n",
       "      <td>Ana Costa</td>\n",
       "      <td>ana@email.com</td>\n",
       "      <td>(31) 77777-7777</td>\n",
       "      <td>35</td>\n",
       "      <td>7500.0</td>\n",
       "      <td>Vendas</td>\n",
       "      <td>2018-06-10</td>\n",
       "    </tr>\n",
       "    <tr>\n",
       "      <th>4</th>\n",
       "      <td>MARIA SANTOS</td>\n",
       "      <td>MARIA@EMAIL.COM</td>\n",
       "      <td>(21) 88888-8888</td>\n",
       "      <td>30</td>\n",
       "      <td>6000.5</td>\n",
       "      <td>RH</td>\n",
       "      <td>2019-03-20</td>\n",
       "    </tr>\n",
       "    <tr>\n",
       "      <th>5</th>\n",
       "      <td>None</td>\n",
       "      <td>test@email.com</td>\n",
       "      <td>None</td>\n",
       "      <td>28</td>\n",
       "      <td>3000.0</td>\n",
       "      <td>TI</td>\n",
       "      <td>2021-02-01</td>\n",
       "    </tr>\n",
       "    <tr>\n",
       "      <th>6</th>\n",
       "      <td>Pedro Alves</td>\n",
       "      <td>pedro@email.com</td>\n",
       "      <td>(41) 66666-6666</td>\n",
       "      <td>150</td>\n",
       "      <td>10000.0</td>\n",
       "      <td>TI</td>\n",
       "      <td>2017-12-05</td>\n",
       "    </tr>\n",
       "    <tr>\n",
       "      <th>7</th>\n",
       "      <td>Lu</td>\n",
       "      <td>lu@email.com</td>\n",
       "      <td>(51) 55555-5555</td>\n",
       "      <td>17</td>\n",
       "      <td>2000.0</td>\n",
       "      <td>Estágio</td>\n",
       "      <td>2023-01-10</td>\n",
       "    </tr>\n",
       "  </tbody>\n",
       "</table>\n",
       "</div>"
      ],
      "text/plain": [
       "      nome_completo            email         telefone  idade  salario  \\\n",
       "0      João Silva     JOÃO@EMAIL.COM  (11) 99999-9999     25   5000.0   \n",
       "1      MARIA SANTOS  maria@email.com  (21) 88888-8888     30   6000.5   \n",
       "2        joão silva   joão@email.com  (11) 99999-9999     25   5000.0   \n",
       "3         Ana Costa    ana@email.com  (31) 77777-7777     35   7500.0   \n",
       "4    MARIA SANTOS    MARIA@EMAIL.COM  (21) 88888-8888     30   6000.5   \n",
       "5              None   test@email.com             None     28   3000.0   \n",
       "6       Pedro Alves  pedro@email.com  (41) 66666-6666    150  10000.0   \n",
       "7                Lu     lu@email.com  (51) 55555-5555     17   2000.0   \n",
       "\n",
       "  departamento data_admissao  \n",
       "0           TI    2020-01-15  \n",
       "1           RH    2019-03-20  \n",
       "2           TI    2020-01-15  \n",
       "3       Vendas    2018-06-10  \n",
       "4           RH    2019-03-20  \n",
       "5           TI    2021-02-01  \n",
       "6           TI    2017-12-05  \n",
       "7      Estágio    2023-01-10  "
      ]
     },
     "metadata": {},
     "output_type": "display_data"
    }
   ],
   "source": [
    "# Célula 2: Criar dados mock realistas\n",
    "np.random.seed(42)\n",
    "data = {\n",
    "    'nome_completo': ['  João Silva  ', 'MARIA SANTOS', 'joão silva', 'Ana Costa', '  MARIA SANTOS  ', None, 'Pedro Alves', 'Lu'],\n",
    "    'email': ['JOÃO@EMAIL.COM', 'maria@email.com', 'joão@email.com', 'ana@email.com', 'MARIA@EMAIL.COM', 'test@email.com', 'pedro@email.com', 'lu@email.com'],\n",
    "    'telefone': ['(11) 99999-9999', '(21) 88888-8888', '(11) 99999-9999', '(31) 77777-7777', '(21) 88888-8888', None, '(41) 66666-6666', '(51) 55555-5555'],\n",
    "    'idade': [25, 30, 25, 35, 30, 28, 150, 17],  # idade inválida (150)\n",
    "    'salario': [5000.0, 6000.5, 5000.0, 7500.0, 6000.5, 3000.0, 10000.0, 2000.0],\n",
    "    'departamento': ['TI', 'RH', 'TI', 'Vendas', 'RH', 'TI', 'TI', 'Estágio'],\n",
    "    'data_admissao': ['2020-01-15', '2019-03-20', '2020-01-15', '2018-06-10', '2019-03-20', '2021-02-01', '2017-12-05', '2023-01-10']\n",
    "}\n",
    "\n",
    "df_original = pd.DataFrame(data)\n",
    "print(\"Dados originais criados:\")\n",
    "print(f\"Shape: {df_original.shape}\")\n",
    "display(df_original)"
   ]
  },
  {
   "cell_type": "code",
   "execution_count": 4,
   "metadata": {},
   "outputs": [
    {
     "name": "stdout",
     "output_type": "stream",
     "text": [
      "Análise inicial:\n",
      "Total de registros: 8\n",
      "Valores nulos por coluna:\n",
      "nome_completo    1\n",
      "email            0\n",
      "telefone         1\n",
      "idade            0\n",
      "salario          0\n",
      "departamento     0\n",
      "data_admissao    0\n",
      "dtype: int64\n",
      "\n",
      "Tipos de dados:\n",
      "nome_completo     object\n",
      "email             object\n",
      "telefone          object\n",
      "idade              int64\n",
      "salario          float64\n",
      "departamento      object\n",
      "data_admissao     object\n",
      "dtype: object\n"
     ]
    }
   ],
   "source": [
    "# Célula 3: Análise inicial dos dados\n",
    "print(\"Análise inicial:\")\n",
    "print(f\"Total de registros: {len(df_original)}\")\n",
    "print(f\"Valores nulos por coluna:\")\n",
    "print(df_original.isnull().sum())\n",
    "print(f\"\\nTipos de dados:\")\n",
    "print(df_original.dtypes)"
   ]
  },
  {
   "cell_type": "code",
   "execution_count": 6,
   "metadata": {},
   "outputs": [
    {
     "name": "stdout",
     "output_type": "stream",
     "text": [
      "Testando módulo de limpeza...\n",
      "Limpeza concluída!\n",
      "Métricas: {'total_whitespace_removed': 8, 'per_column_whitespace_removed': {'nome_completo': 8, 'email': 0, 'departamento': 0}, 'cells_modified': 2, 'empty_strings_to_na': 1, 'columns_processed': ['nome_completo', 'email', 'departamento']}\n",
      "\n",
      "Antes vs Depois:\n",
      "            Antes        Depois\n",
      "0    João Silva      João Silva\n",
      "1    MARIA SANTOS  MARIA SANTOS\n",
      "2      joão silva    joão silva\n"
     ]
    }
   ],
   "source": [
    "# Célula 4: Testar módulo de cleaning individualmente\n",
    "print(\"Testando módulo de limpeza...\")\n",
    "clean_config = CleanConfig(\n",
    "    strip=True,\n",
    "    collapse_whitespace=True,\n",
    "    unicode_normalization='NFKC',\n",
    "    case='title',  # João Silva, Maria Santos\n",
    "    empty_to_na=True\n",
    ")\n",
    "\n",
    "df_cleaned, clean_metrics = clean_columns(df_original, columns=['nome_completo', 'email', 'departamento'])\n",
    "\n",
    "print(\"Limpeza concluída!\")\n",
    "print(f\"Métricas: {clean_metrics}\")\n",
    "print(\"\\nAntes vs Depois:\")\n",
    "print(pd.DataFrame({\n",
    "    'Antes': df_original['nome_completo'].head(3),\n",
    "    'Depois': df_cleaned['nome_completo'].head(3)\n",
    "}))"
   ]
  },
  {
   "cell_type": "code",
   "execution_count": 7,
   "metadata": {},
   "outputs": [
    {
     "name": "stdout",
     "output_type": "stream",
     "text": [
      "\n",
      "Testando módulo de filtragem...\n",
      "Filtragem concluída!\n",
      "Métricas: {'removed_rows': 2, 'remaining_rows': 6, 'min_length': 5, 'drop_na': True}\n",
      "Registros após filtro: 6\n"
     ]
    }
   ],
   "source": [
    "# Célula 5: Testar módulo de filtering individualmente\n",
    "print(\"\\nTestando módulo de filtragem...\")\n",
    "filter_config = FilterConfig(min_length=5, drop_na=True)\n",
    "df_filtered, filter_metrics = filter_by_length(df_cleaned, 'nome_completo', filter_config)\n",
    "\n",
    "print(\"Filtragem concluída!\")\n",
    "print(f\"Métricas: {filter_metrics}\")\n",
    "print(f\"Registros após filtro: {len(df_filtered)}\")"
   ]
  },
  {
   "cell_type": "code",
   "execution_count": 9,
   "metadata": {},
   "outputs": [
    {
     "name": "stdout",
     "output_type": "stream",
     "text": [
      "\n",
      "Testando módulo de deduplicação...\n",
      "Deduplicação concluída!\n",
      "Métricas: {'removed_duplicates': 2, 'remaining_rows': 4, 'keep_strategy': 'first', 'case_sensitive': False, 'normalize_unicode': True}\n",
      "Registros únicos: 4\n"
     ]
    }
   ],
   "source": [
    "# Célula 6: Testar módulo de deduplication individualmente\n",
    "print(\"\\nTestando módulo de deduplicação...\")\n",
    "dedup_config = DedupConfig(keep='first', case_sensitive=False, normalize_unicode=True)\n",
    "df_dedup, dedup_metrics = remove_duplicates(df_filtered, 'email', dedup_config)\n",
    "\n",
    "print(\"Deduplicação concluída!\")\n",
    "print(f\"Métricas: {dedup_metrics}\")\n",
    "print(f\"Registros únicos: {len(df_dedup)}\")"
   ]
  },
  {
   "cell_type": "code",
   "execution_count": 10,
   "metadata": {},
   "outputs": [
    {
     "name": "stdout",
     "output_type": "stream",
     "text": [
      "\n",
      "Testando PIPELINE COMPLETO...\n",
      "PIPELINE COMPLETO CONCLUÍDO!\n",
      "Registros originais: 8\n",
      "Registros finais: 4\n",
      "Redução: 4 registros removidos\n"
     ]
    }
   ],
   "source": [
    "# Célula 7: Pipeline COMPLETO\n",
    "print(\"\\nTestando PIPELINE COMPLETO...\")\n",
    "pipeline_config = PipelineConfig(\n",
    "    cleaning=CleanConfig(\n",
    "        strip=True,\n",
    "        collapse_whitespace=True,\n",
    "        unicode_normalization='NFKC',\n",
    "        case='title',\n",
    "        empty_to_na=True\n",
    "    ),\n",
    "    filtering=FilterConfig(min_length=5, drop_na=True),\n",
    "    deduplication=DedupConfig(\n",
    "        keep='first',\n",
    "        case_sensitive=False,\n",
    "        normalize_unicode=True\n",
    "    )\n",
    ")\n",
    "\n",
    "pipeline = DataPreparationPipeline(pipeline_config)\n",
    "resultado = pipeline.run(\n",
    "    df_original, \n",
    "    target_column='nome_completo',\n",
    "    columns_to_clean=['nome_completo', 'email', 'departamento']\n",
    ")\n",
    "\n",
    "print(\"PIPELINE COMPLETO CONCLUÍDO!\")\n",
    "print(f\"Registros originais: {len(df_original)}\")\n",
    "print(f\"Registros finais: {len(resultado.dataframe)}\")\n",
    "print(f\"Redução: {len(df_original) - len(resultado.dataframe)} registros removidos\")"
   ]
  },
  {
   "cell_type": "code",
   "execution_count": 11,
   "metadata": {},
   "outputs": [
    {
     "name": "stdout",
     "output_type": "stream",
     "text": [
      "\n",
      "Métricas detalhadas do pipeline:\n",
      "\n",
      "CLEANING:\n",
      "  total_whitespace_removed: 8\n",
      "  per_column_whitespace_removed:\n",
      "    nome_completo: 8\n",
      "    email: 0\n",
      "    departamento: 0\n",
      "  cells_modified: 2\n",
      "  empty_strings_to_na: 1\n",
      "  columns_processed: ['nome_completo', 'email', 'departamento']\n",
      "\n",
      "FILTERING:\n",
      "  removed_rows: 2\n",
      "  remaining_rows: 6\n",
      "  min_length: 5\n",
      "  drop_na: True\n",
      "\n",
      "DEDUPLICATION:\n",
      "  removed_duplicates: 2\n",
      "  remaining_rows: 4\n",
      "  keep_strategy: first\n",
      "  case_sensitive: False\n",
      "  normalize_unicode: True\n"
     ]
    }
   ],
   "source": [
    "# Célula 8: Análise dos resultados\n",
    "print(\"\\nMétricas detalhadas do pipeline:\")\n",
    "for etapa, metrics in resultado.metrics.items():\n",
    "    print(f\"\\n{etapa.upper()}:\")\n",
    "    for key, value in metrics.items():\n",
    "        if isinstance(value, dict):\n",
    "            print(f\"  {key}:\")\n",
    "            for k, v in value.items():\n",
    "                print(f\"    {k}: {v}\")\n",
    "        else:\n",
    "            print(f\"  {key}: {value}\")"
   ]
  },
  {
   "cell_type": "code",
   "execution_count": 12,
   "metadata": {},
   "outputs": [
    {
     "name": "stdout",
     "output_type": "stream",
     "text": [
      "\n",
      "Dados finais após pipeline completo:\n"
     ]
    },
    {
     "data": {
      "text/html": [
       "<div>\n",
       "<style scoped>\n",
       "    .dataframe tbody tr th:only-of-type {\n",
       "        vertical-align: middle;\n",
       "    }\n",
       "\n",
       "    .dataframe tbody tr th {\n",
       "        vertical-align: top;\n",
       "    }\n",
       "\n",
       "    .dataframe thead th {\n",
       "        text-align: right;\n",
       "    }\n",
       "</style>\n",
       "<table border=\"1\" class=\"dataframe\">\n",
       "  <thead>\n",
       "    <tr style=\"text-align: right;\">\n",
       "      <th></th>\n",
       "      <th>nome_completo</th>\n",
       "      <th>email</th>\n",
       "      <th>telefone</th>\n",
       "      <th>idade</th>\n",
       "      <th>salario</th>\n",
       "      <th>departamento</th>\n",
       "      <th>data_admissao</th>\n",
       "    </tr>\n",
       "  </thead>\n",
       "  <tbody>\n",
       "    <tr>\n",
       "      <th>0</th>\n",
       "      <td>João Silva</td>\n",
       "      <td>JOÃO@EMAIL.COM</td>\n",
       "      <td>(11) 99999-9999</td>\n",
       "      <td>25</td>\n",
       "      <td>5000.0</td>\n",
       "      <td>TI</td>\n",
       "      <td>2020-01-15</td>\n",
       "    </tr>\n",
       "    <tr>\n",
       "      <th>1</th>\n",
       "      <td>MARIA SANTOS</td>\n",
       "      <td>maria@email.com</td>\n",
       "      <td>(21) 88888-8888</td>\n",
       "      <td>30</td>\n",
       "      <td>6000.5</td>\n",
       "      <td>RH</td>\n",
       "      <td>2019-03-20</td>\n",
       "    </tr>\n",
       "    <tr>\n",
       "      <th>3</th>\n",
       "      <td>Ana Costa</td>\n",
       "      <td>ana@email.com</td>\n",
       "      <td>(31) 77777-7777</td>\n",
       "      <td>35</td>\n",
       "      <td>7500.0</td>\n",
       "      <td>Vendas</td>\n",
       "      <td>2018-06-10</td>\n",
       "    </tr>\n",
       "    <tr>\n",
       "      <th>6</th>\n",
       "      <td>Pedro Alves</td>\n",
       "      <td>pedro@email.com</td>\n",
       "      <td>(41) 66666-6666</td>\n",
       "      <td>150</td>\n",
       "      <td>10000.0</td>\n",
       "      <td>TI</td>\n",
       "      <td>2017-12-05</td>\n",
       "    </tr>\n",
       "  </tbody>\n",
       "</table>\n",
       "</div>"
      ],
      "text/plain": [
       "  nome_completo            email         telefone  idade  salario  \\\n",
       "0    João Silva   JOÃO@EMAIL.COM  (11) 99999-9999     25   5000.0   \n",
       "1  MARIA SANTOS  maria@email.com  (21) 88888-8888     30   6000.5   \n",
       "3     Ana Costa    ana@email.com  (31) 77777-7777     35   7500.0   \n",
       "6   Pedro Alves  pedro@email.com  (41) 66666-6666    150  10000.0   \n",
       "\n",
       "  departamento data_admissao  \n",
       "0           TI    2020-01-15  \n",
       "1           RH    2019-03-20  \n",
       "3       Vendas    2018-06-10  \n",
       "6           TI    2017-12-05  "
      ]
     },
     "metadata": {},
     "output_type": "display_data"
    }
   ],
   "source": [
    "# Célula 9: Visualização dos dados transformados\n",
    "print(\"\\nDados finais após pipeline completo:\")\n",
    "display(resultado.dataframe)"
   ]
  },
  {
   "cell_type": "code",
   "execution_count": 13,
   "metadata": {},
   "outputs": [
    {
     "name": "stdout",
     "output_type": "stream",
     "text": [
      "Resumo da transformação:\n"
     ]
    },
    {
     "data": {
      "text/html": [
       "<div>\n",
       "<style scoped>\n",
       "    .dataframe tbody tr th:only-of-type {\n",
       "        vertical-align: middle;\n",
       "    }\n",
       "\n",
       "    .dataframe tbody tr th {\n",
       "        vertical-align: top;\n",
       "    }\n",
       "\n",
       "    .dataframe thead th {\n",
       "        text-align: right;\n",
       "    }\n",
       "</style>\n",
       "<table border=\"1\" class=\"dataframe\">\n",
       "  <thead>\n",
       "    <tr style=\"text-align: right;\">\n",
       "      <th></th>\n",
       "      <th>Estágio</th>\n",
       "      <th>Registros</th>\n",
       "    </tr>\n",
       "  </thead>\n",
       "  <tbody>\n",
       "    <tr>\n",
       "      <th>0</th>\n",
       "      <td>Original</td>\n",
       "      <td>8</td>\n",
       "    </tr>\n",
       "    <tr>\n",
       "      <th>1</th>\n",
       "      <td>Após Cleaning</td>\n",
       "      <td>8</td>\n",
       "    </tr>\n",
       "    <tr>\n",
       "      <th>2</th>\n",
       "      <td>Após Filtering</td>\n",
       "      <td>6</td>\n",
       "    </tr>\n",
       "    <tr>\n",
       "      <th>3</th>\n",
       "      <td>Após Deduplication</td>\n",
       "      <td>4</td>\n",
       "    </tr>\n",
       "    <tr>\n",
       "      <th>4</th>\n",
       "      <td>Final</td>\n",
       "      <td>4</td>\n",
       "    </tr>\n",
       "  </tbody>\n",
       "</table>\n",
       "</div>"
      ],
      "text/plain": [
       "              Estágio  Registros\n",
       "0            Original          8\n",
       "1       Após Cleaning          8\n",
       "2      Após Filtering          6\n",
       "3  Após Deduplication          4\n",
       "4               Final          4"
      ]
     },
     "metadata": {},
     "output_type": "display_data"
    }
   ],
   "source": [
    "# Célula 10: Análise comparativa\n",
    "print(\"Resumo da transformação:\")\n",
    "resumo = pd.DataFrame({\n",
    "    'Estágio': ['Original', 'Após Cleaning', 'Após Filtering', 'Após Deduplication', 'Final'],\n",
    "    'Registros': [\n",
    "        len(df_original),\n",
    "        len(df_cleaned),\n",
    "        len(df_filtered), \n",
    "        len(df_dedup),\n",
    "        len(resultado.dataframe)\n",
    "    ]\n",
    "})\n",
    "display(resumo)"
   ]
  },
  {
   "cell_type": "code",
   "execution_count": 14,
   "metadata": {},
   "outputs": [
    {
     "name": "stdout",
     "output_type": "stream",
     "text": [
      "Dados exportados para 'dados_processados.csv'\n"
     ]
    }
   ],
   "source": [
    "# Célula 11: Exportar resultados (opcional)\n",
    "# resultado.dataframe.to_csv('dados_processados.csv', index=False)\n",
    "print(\"Dados exportados para 'dados_processados.csv'\")"
   ]
  }
 ],
 "metadata": {
  "kernelspec": {
   "display_name": "Python 3",
   "language": "python",
   "name": "python3"
  },
  "language_info": {
   "codemirror_mode": {
    "name": "ipython",
    "version": 3
   },
   "file_extension": ".py",
   "mimetype": "text/x-python",
   "name": "python",
   "nbconvert_exporter": "python",
   "pygments_lexer": "ipython3",
   "version": "3.13.0"
  }
 },
 "nbformat": 4,
 "nbformat_minor": 2
}
