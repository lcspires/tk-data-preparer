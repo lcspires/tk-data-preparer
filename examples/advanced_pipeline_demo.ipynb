{
 "cells": [
  {
   "cell_type": "code",
   "execution_count": 1,
   "metadata": {},
   "outputs": [],
   "source": [
    "# Célula 1: Importações\n",
    "import pandas as pd\n",
    "import numpy as np\n",
    "from tk_data_preparer.config import AppConfig, DEFAULT_CONFIG, PRESET_CONFIGS\n",
    "from tk_data_preparer.core import DataPreparationPipeline"
   ]
  },
  {
   "cell_type": "code",
   "execution_count": 4,
   "metadata": {},
   "outputs": [
    {
     "name": "stdout",
     "output_type": "stream",
     "text": [
      "Configurações disponíveis:\n",
      "1. Padrão (DEFAULT_CONFIG)\n",
      "2. customer_data - Para dados de clientes\n",
      "3. product_catalog - Para catálogo de produtos\n",
      "4. minimal - Limpeza mínima\n"
     ]
    }
   ],
   "source": [
    "# Célula 2: Explorar configurações disponíveis\n",
    "print(\"Configurações disponíveis:\")\n",
    "print(\"1. Padrão (DEFAULT_CONFIG)\")\n",
    "print(\"2. customer_data - Para dados de clientes\")\n",
    "print(\"3. product_catalog - Para catálogo de produtos\") \n",
    "print(\"4. minimal - Limpeza mínima\")"
   ]
  },
  {
   "cell_type": "code",
   "execution_count": 5,
   "metadata": {},
   "outputs": [
    {
     "name": "stdout",
     "output_type": "stream",
     "text": [
      "\n",
      "Configuração Padrão:\n"
     ]
    },
    {
     "ename": "NameError",
     "evalue": "name 'json' is not defined",
     "output_type": "error",
     "traceback": [
      "\u001b[31m---------------------------------------------------------------------------\u001b[39m",
      "\u001b[31mNameError\u001b[39m                                 Traceback (most recent call last)",
      "\u001b[36mCell\u001b[39m\u001b[36m \u001b[39m\u001b[32mIn[5]\u001b[39m\u001b[32m, line 4\u001b[39m\n\u001b[32m      2\u001b[39m \u001b[38;5;28mprint\u001b[39m(\u001b[33m\"\u001b[39m\u001b[38;5;130;01m\\n\u001b[39;00m\u001b[33mConfiguração Padrão:\u001b[39m\u001b[33m\"\u001b[39m)\n\u001b[32m      3\u001b[39m config_dict = DEFAULT_CONFIG.to_dict()\n\u001b[32m----> \u001b[39m\u001b[32m4\u001b[39m \u001b[38;5;28mprint\u001b[39m(\u001b[43mjson\u001b[49m.dumps(config_dict, indent=\u001b[32m2\u001b[39m, ensure_ascii=\u001b[38;5;28;01mFalse\u001b[39;00m))\n",
      "\u001b[31mNameError\u001b[39m: name 'json' is not defined"
     ]
    }
   ],
   "source": [
    "# Célula 3: Mostrar configuração padrão\n",
    "print(\"\\nConfiguração Padrão:\")\n",
    "config_dict = DEFAULT_CONFIG.to_dict()\n",
    "print(json.dumps(config_dict, indent=2, ensure_ascii=False))"
   ]
  },
  {
   "cell_type": "code",
   "execution_count": 6,
   "metadata": {},
   "outputs": [
    {
     "name": "stdout",
     "output_type": "stream",
     "text": [
      "Dados de exemplo:\n"
     ]
    },
    {
     "data": {
      "text/html": [
       "<div>\n",
       "<style scoped>\n",
       "    .dataframe tbody tr th:only-of-type {\n",
       "        vertical-align: middle;\n",
       "    }\n",
       "\n",
       "    .dataframe tbody tr th {\n",
       "        vertical-align: top;\n",
       "    }\n",
       "\n",
       "    .dataframe thead th {\n",
       "        text-align: right;\n",
       "    }\n",
       "</style>\n",
       "<table border=\"1\" class=\"dataframe\">\n",
       "  <thead>\n",
       "    <tr style=\"text-align: right;\">\n",
       "      <th></th>\n",
       "      <th>customer_name</th>\n",
       "      <th>customer_email</th>\n",
       "      <th>purchase_amount</th>\n",
       "    </tr>\n",
       "  </thead>\n",
       "  <tbody>\n",
       "    <tr>\n",
       "      <th>0</th>\n",
       "      <td>john doe</td>\n",
       "      <td>JOHN@EMAIL.COM</td>\n",
       "      <td>100.50</td>\n",
       "    </tr>\n",
       "    <tr>\n",
       "      <th>1</th>\n",
       "      <td>MARY SMITH</td>\n",
       "      <td>mary@email.com</td>\n",
       "      <td>200.75</td>\n",
       "    </tr>\n",
       "    <tr>\n",
       "      <th>2</th>\n",
       "      <td>john doe</td>\n",
       "      <td>john@email.com</td>\n",
       "      <td>100.50</td>\n",
       "    </tr>\n",
       "    <tr>\n",
       "      <th>3</th>\n",
       "      <td>Anna Johnson</td>\n",
       "      <td>anna@email.com</td>\n",
       "      <td>300.25</td>\n",
       "    </tr>\n",
       "    <tr>\n",
       "      <th>4</th>\n",
       "      <td>None</td>\n",
       "      <td>None</td>\n",
       "      <td>150.00</td>\n",
       "    </tr>\n",
       "    <tr>\n",
       "      <th>5</th>\n",
       "      <td>Li</td>\n",
       "      <td>li@email.com</td>\n",
       "      <td>75.50</td>\n",
       "    </tr>\n",
       "  </tbody>\n",
       "</table>\n",
       "</div>"
      ],
      "text/plain": [
       "  customer_name  customer_email  purchase_amount\n",
       "0    john doe    JOHN@EMAIL.COM           100.50\n",
       "1    MARY SMITH  mary@email.com           200.75\n",
       "2      john doe  john@email.com           100.50\n",
       "3  Anna Johnson  anna@email.com           300.25\n",
       "4          None            None           150.00\n",
       "5            Li    li@email.com            75.50"
      ]
     },
     "metadata": {},
     "output_type": "display_data"
    }
   ],
   "source": [
    "# Célula 4: Criar dados de exemplo\n",
    "np.random.seed(42)\n",
    "sample_data = pd.DataFrame({\n",
    "    'customer_name': ['  john doe  ', 'MARY SMITH', 'john doe', 'Anna Johnson', None, 'Li'],\n",
    "    'customer_email': ['JOHN@EMAIL.COM', 'mary@email.com', 'john@email.com', 'anna@email.com', None, 'li@email.com'],\n",
    "    'purchase_amount': [100.50, 200.75, 100.50, 300.25, 150.00, 75.50]\n",
    "})\n",
    "\n",
    "print(\"Dados de exemplo:\")\n",
    "display(sample_data)"
   ]
  },
  {
   "cell_type": "code",
   "execution_count": 8,
   "metadata": {},
   "outputs": [
    {
     "name": "stdout",
     "output_type": "stream",
     "text": [
      "\n",
      "Testando diferentes presets...\n",
      "\n",
      "Executando preset: customer_data\n",
      "   Registros finais: 3\n",
      "   Registros removidos: 3\n",
      "\n",
      "Executando preset: product_catalog\n",
      "   Registros finais: 5\n",
      "   Registros removidos: 1\n",
      "\n",
      "Executando preset: minimal\n",
      "   Registros finais: 6\n",
      "   Registros removidos: 0\n"
     ]
    }
   ],
   "source": [
    "# Célula 5: Testar diferentes presets\n",
    "print(\"\\nTestando diferentes presets...\")\n",
    "\n",
    "results = {}\n",
    "for preset_name, config in PRESET_CONFIGS.items():\n",
    "    print(f\"\\nExecutando preset: {preset_name}\")\n",
    "    pipeline = DataPreparationPipeline(config.pipeline)\n",
    "    result = pipeline.run(sample_data, 'customer_name', ['customer_name', 'customer_email'])\n",
    "    \n",
    "    results[preset_name] = {\n",
    "        'config': config,\n",
    "        'result': result,\n",
    "        'final_rows': len(result.dataframe)\n",
    "    }\n",
    "    \n",
    "    print(f\"   Registros finais: {len(result.dataframe)}\")\n",
    "    print(f\"   Registros removidos: {len(sample_data) - len(result.dataframe)}\")"
   ]
  },
  {
   "cell_type": "code",
   "execution_count": 9,
   "metadata": {},
   "outputs": [
    {
     "name": "stdout",
     "output_type": "stream",
     "text": [
      "\n",
      "Comparativo de resultados:\n"
     ]
    },
    {
     "data": {
      "text/html": [
       "<div>\n",
       "<style scoped>\n",
       "    .dataframe tbody tr th:only-of-type {\n",
       "        vertical-align: middle;\n",
       "    }\n",
       "\n",
       "    .dataframe tbody tr th {\n",
       "        vertical-align: top;\n",
       "    }\n",
       "\n",
       "    .dataframe thead th {\n",
       "        text-align: right;\n",
       "    }\n",
       "</style>\n",
       "<table border=\"1\" class=\"dataframe\">\n",
       "  <thead>\n",
       "    <tr style=\"text-align: right;\">\n",
       "      <th></th>\n",
       "      <th>Preset</th>\n",
       "      <th>Registros Finais</th>\n",
       "      <th>Registros Removidos</th>\n",
       "    </tr>\n",
       "  </thead>\n",
       "  <tbody>\n",
       "    <tr>\n",
       "      <th>0</th>\n",
       "      <td>customer_data</td>\n",
       "      <td>3</td>\n",
       "      <td>3</td>\n",
       "    </tr>\n",
       "    <tr>\n",
       "      <th>1</th>\n",
       "      <td>product_catalog</td>\n",
       "      <td>5</td>\n",
       "      <td>1</td>\n",
       "    </tr>\n",
       "    <tr>\n",
       "      <th>2</th>\n",
       "      <td>minimal</td>\n",
       "      <td>6</td>\n",
       "      <td>0</td>\n",
       "    </tr>\n",
       "  </tbody>\n",
       "</table>\n",
       "</div>"
      ],
      "text/plain": [
       "            Preset  Registros Finais  Registros Removidos\n",
       "0    customer_data                 3                    3\n",
       "1  product_catalog                 5                    1\n",
       "2          minimal                 6                    0"
      ]
     },
     "metadata": {},
     "output_type": "display_data"
    }
   ],
   "source": [
    "# Célula 6: Comparar resultados\n",
    "print(\"\\nComparativo de resultados:\")\n",
    "comparison = pd.DataFrame({\n",
    "    'Preset': list(results.keys()),\n",
    "    'Registros Finais': [r['final_rows'] for r in results.values()],\n",
    "    'Registros Removidos': [len(sample_data) - r['final_rows'] for r in results.values()]\n",
    "})\n",
    "display(comparison)"
   ]
  },
  {
   "cell_type": "code",
   "execution_count": 10,
   "metadata": {},
   "outputs": [
    {
     "name": "stdout",
     "output_type": "stream",
     "text": [
      "\n",
      "Salvando e carregando configuração...\n"
     ]
    },
    {
     "ename": "NameError",
     "evalue": "name 'Path' is not defined",
     "output_type": "error",
     "traceback": [
      "\u001b[31m---------------------------------------------------------------------------\u001b[39m",
      "\u001b[31mNameError\u001b[39m                                 Traceback (most recent call last)",
      "\u001b[36mCell\u001b[39m\u001b[36m \u001b[39m\u001b[32mIn[10]\u001b[39m\u001b[32m, line 6\u001b[39m\n\u001b[32m      4\u001b[39m \u001b[38;5;66;03m# Salvar configuração personalizada\u001b[39;00m\n\u001b[32m      5\u001b[39m custom_config = AppConfig.get_preset(\u001b[33m'\u001b[39m\u001b[33mcustomer_data\u001b[39m\u001b[33m'\u001b[39m)\n\u001b[32m----> \u001b[39m\u001b[32m6\u001b[39m custom_config.save_to_file(\u001b[43mPath\u001b[49m(\u001b[33m'\u001b[39m\u001b[33mcustom_config.json\u001b[39m\u001b[33m'\u001b[39m))\n\u001b[32m      7\u001b[39m \u001b[38;5;28mprint\u001b[39m(\u001b[33m\"\u001b[39m\u001b[33mConfiguração salva em \u001b[39m\u001b[33m'\u001b[39m\u001b[33mcustom_config.json\u001b[39m\u001b[33m'\u001b[39m\u001b[33m\"\u001b[39m)\n\u001b[32m      9\u001b[39m \u001b[38;5;66;03m# Carregar configuração\u001b[39;00m\n",
      "\u001b[31mNameError\u001b[39m: name 'Path' is not defined"
     ]
    }
   ],
   "source": [
    "# Célula 7: Salvar e carregar configuração\n",
    "print(\"\\nSalvando e carregando configuração...\")\n",
    "\n",
    "# Salvar configuração personalizada\n",
    "custom_config = AppConfig.get_preset('customer_data')\n",
    "custom_config.save_to_file(Path('custom_config.json'))\n",
    "print(\"Configuração salva em 'custom_config.json'\")\n",
    "\n",
    "# Carregar configuração\n",
    "loaded_config = AppConfig.load_from_file(Path('custom_config.json'))\n",
    "print(\"Configuração carregada do arquivo\")"
   ]
  },
  {
   "cell_type": "code",
   "execution_count": 12,
   "metadata": {},
   "outputs": [
    {
     "name": "stdout",
     "output_type": "stream",
     "text": [
      "\n",
      "Pipeline com configuração personalizada...\n"
     ]
    },
    {
     "ename": "NameError",
     "evalue": "name 'loaded_config' is not defined",
     "output_type": "error",
     "traceback": [
      "\u001b[31m---------------------------------------------------------------------------\u001b[39m",
      "\u001b[31mNameError\u001b[39m                                 Traceback (most recent call last)",
      "\u001b[36mCell\u001b[39m\u001b[36m \u001b[39m\u001b[32mIn[12]\u001b[39m\u001b[32m, line 3\u001b[39m\n\u001b[32m      1\u001b[39m \u001b[38;5;66;03m# Célula 8: Pipeline com configuração customizada\u001b[39;00m\n\u001b[32m      2\u001b[39m \u001b[38;5;28mprint\u001b[39m(\u001b[33m\"\u001b[39m\u001b[38;5;130;01m\\n\u001b[39;00m\u001b[33mPipeline com configuração personalizada...\u001b[39m\u001b[33m\"\u001b[39m)\n\u001b[32m----> \u001b[39m\u001b[32m3\u001b[39m pipeline = DataPreparationPipeline(\u001b[43mloaded_config\u001b[49m.pipeline)\n\u001b[32m      4\u001b[39m result = pipeline.run(sample_data, \u001b[33m'\u001b[39m\u001b[33mcustomer_name\u001b[39m\u001b[33m'\u001b[39m, [\u001b[33m'\u001b[39m\u001b[33mcustomer_name\u001b[39m\u001b[33m'\u001b[39m, \u001b[33m'\u001b[39m\u001b[33mcustomer_email\u001b[39m\u001b[33m'\u001b[39m])\n\u001b[32m      6\u001b[39m \u001b[38;5;28mprint\u001b[39m(\u001b[33m\"\u001b[39m\u001b[33mResultado final:\u001b[39m\u001b[33m\"\u001b[39m)\n",
      "\u001b[31mNameError\u001b[39m: name 'loaded_config' is not defined"
     ]
    }
   ],
   "source": [
    "# Célula 8: Pipeline com configuração customizada\n",
    "print(\"\\nPipeline com configuração personalizada...\")\n",
    "pipeline = DataPreparationPipeline(loaded_config.pipeline)\n",
    "result = pipeline.run(sample_data, 'customer_name', ['customer_name', 'customer_email'])\n",
    "\n",
    "print(\"Resultado final:\")\n",
    "display(result.dataframe)\n",
    "print(f\"Métricas: {json.dumps(result.metrics, indent=2, default=str)}\")"
   ]
  }
 ],
 "metadata": {
  "kernelspec": {
   "display_name": "Python 3",
   "language": "python",
   "name": "python3"
  },
  "language_info": {
   "codemirror_mode": {
    "name": "ipython",
    "version": 3
   },
   "file_extension": ".py",
   "mimetype": "text/x-python",
   "name": "python",
   "nbconvert_exporter": "python",
   "pygments_lexer": "ipython3",
   "version": "3.13.0"
  }
 },
 "nbformat": 4,
 "nbformat_minor": 2
}
